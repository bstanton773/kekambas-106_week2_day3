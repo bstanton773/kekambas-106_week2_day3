{
 "cells": [
  {
   "cell_type": "markdown",
   "metadata": {},
   "source": [
    "# Functions"
   ]
  },
  {
   "cell_type": "markdown",
   "metadata": {},
   "source": [
    "#### Warm up"
   ]
  },
  {
   "cell_type": "code",
   "execution_count": 1,
   "metadata": {},
   "outputs": [
    {
     "name": "stdout",
     "output_type": "stream",
     "text": [
      "['The Beatles', 'The Rolling Stones', 'The Eagles', 'The Temptations']\n"
     ]
    }
   ],
   "source": [
    "bands = ['  thE beATles   ', 'tHe RoLLing sTones..', '.,tHe eagles', 'the tEMptationS  ']\n",
    "\n",
    "clean_bands = [band.strip('., ').title() for band in bands]\n",
    "print(clean_bands)"
   ]
  },
  {
   "cell_type": "code",
   "execution_count": null,
   "metadata": {},
   "outputs": [],
   "source": [
    "# Output: ['The Beatles', 'The Rolling Stones', etc]"
   ]
  },
  {
   "cell_type": "code",
   "execution_count": 2,
   "metadata": {},
   "outputs": [
    {
     "name": "stdout",
     "output_type": "stream",
     "text": [
      "['The Who', 'The Doors', 'The Band', 'The Kinks']\n"
     ]
    }
   ],
   "source": [
    "bands2 = [' The whO  ', '  .   , tHE dOORS  ', ' the bAnd   ', '...,  THE kINks    ']\n",
    "\n",
    "clean_bands2 = [band.strip('., ').title() for band in bands2]\n",
    "print(clean_bands2)"
   ]
  },
  {
   "cell_type": "markdown",
   "metadata": {},
   "source": [
    "## Functions"
   ]
  },
  {
   "cell_type": "markdown",
   "metadata": {},
   "source": [
    "##### User-Defined vs. Built-In Function"
   ]
  },
  {
   "cell_type": "code",
   "execution_count": 4,
   "metadata": {},
   "outputs": [
    {
     "name": "stdout",
     "output_type": "stream",
     "text": [
      "<built-in function max>\n",
      "Help on built-in function max in module builtins:\n",
      "\n",
      "max(...)\n",
      "    max(iterable, *[, default=obj, key=func]) -> value\n",
      "    max(arg1, arg2, *args, *[, key=func]) -> value\n",
      "    \n",
      "    With a single iterable argument, return its biggest item. The\n",
      "    default keyword-only argument specifies an object to return if\n",
      "    the provided iterable is empty.\n",
      "    With two or more arguments, return the largest argument.\n",
      "\n"
     ]
    }
   ],
   "source": [
    "# Built-in functions\n",
    "print(max)\n",
    "help(max)"
   ]
  },
  {
   "cell_type": "code",
   "execution_count": 6,
   "metadata": {},
   "outputs": [
    {
     "name": "stdout",
     "output_type": "stream",
     "text": [
      "<function say_hello at 0x0000024BAC1BB550>\n"
     ]
    },
    {
     "data": {
      "text/plain": [
       "<function __main__.say_hello()>"
      ]
     },
     "execution_count": 6,
     "metadata": {},
     "output_type": "execute_result"
    }
   ],
   "source": [
    "# User Defined Function\n",
    "# Syntax: def function_name():\n",
    "#             <CODE TO EXECUTE WHEN CALLED>\n",
    "\n",
    "# Creating a function\n",
    "def say_hello():\n",
    "    print('Hello World')\n",
    "    \n",
    "print(say_hello)\n",
    "say_hello"
   ]
  },
  {
   "cell_type": "code",
   "execution_count": 7,
   "metadata": {},
   "outputs": [
    {
     "name": "stdout",
     "output_type": "stream",
     "text": [
      "Help on function say_hello in module __main__:\n",
      "\n",
      "say_hello()\n",
      "    # Creating a function\n",
      "\n"
     ]
    }
   ],
   "source": [
    "help(say_hello)"
   ]
  },
  {
   "cell_type": "code",
   "execution_count": 9,
   "metadata": {},
   "outputs": [
    {
     "name": "stdout",
     "output_type": "stream",
     "text": [
      "Before Executing\n",
      "Hello World\n",
      "After Executing\n"
     ]
    }
   ],
   "source": [
    "# Executing a function\n",
    "# Syntax: function_name()\n",
    "\n",
    "print('Before Executing')\n",
    "say_hello() # Executing the function - don't forget the ()\n",
    "print('After Executing')"
   ]
  },
  {
   "cell_type": "code",
   "execution_count": null,
   "metadata": {},
   "outputs": [],
   "source": [
    " # DRY Principle - Don't Repeat Yourself"
   ]
  },
  {
   "cell_type": "markdown",
   "metadata": {},
   "source": [
    "##### Accepting Parameters"
   ]
  },
  {
   "cell_type": "code",
   "execution_count": 15,
   "metadata": {},
   "outputs": [
    {
     "name": "stdout",
     "output_type": "stream",
     "text": [
      "Hello Brian Stanton\n",
      "Hello Stanton Brian\n"
     ]
    }
   ],
   "source": [
    "# Syntax: def function_name(param1, param2):\n",
    "#             <CODE TO EXECUTE with variable param1 and param2>\n",
    "def say_hello_again(first, last): # <- first and last are parameters (aka placeholders)\n",
    "    print(f\"Hello {first} {last}\")\n",
    "\n",
    "# Execute\n",
    "# Syntax: function_name(data1, data2)\n",
    "say_hello_again(\"Brian\", \"Stanton\") # <- 'Brian' and 'Stanton' are arguments (aka real data)\n",
    "say_hello_again(\"Stanton\", \"Brian\") # Postition Matters!"
   ]
  },
  {
   "cell_type": "markdown",
   "metadata": {},
   "source": [
    "##### Passing in variables as parameters"
   ]
  },
  {
   "cell_type": "code",
   "execution_count": 27,
   "metadata": {},
   "outputs": [
    {
     "name": "stdout",
     "output_type": "stream",
     "text": [
      "Chicago, IL - 60606\n",
      "Boston, MA - 02215\n",
      "New York, NY - 10451\n"
     ]
    }
   ],
   "source": [
    "city1 = 'Boston'\n",
    "state1 = 'MA'\n",
    "zip_code1 = '02215'\n",
    "\n",
    "city2 = 'New York'\n",
    "state2 = 'NY'\n",
    "zip_code2 = '10451'\n",
    "\n",
    "\n",
    "# Function to format our addresses -> City, State - Zip Code\n",
    "\n",
    "def format_address(city, state, zip_code):\n",
    "    print(f\"{city}, {state} - {zip_code}\")\n",
    "    \n",
    "    \n",
    "format_address(\"Chicago\", \"IL\", \"60606\")\n",
    "format_address(city1, state1, zip_code1)\n",
    "format_address(city2, state2, zip_code2)"
   ]
  },
  {
   "cell_type": "code",
   "execution_count": 25,
   "metadata": {},
   "outputs": [
    {
     "name": "stdout",
     "output_type": "stream",
     "text": [
      "What is your first name? brian\n",
      "What is your last name? stanton\n",
      "What is your address? 123 real street\n",
      "In which city do you live? chicago\n",
      "What is the state postal code? il\n",
      "What is your zip code? 60632\n",
      "\n",
      "Brian Stanton\n",
      "123 Real Street\n",
      "Chicago, IL 60632\n",
      "    \n"
     ]
    }
   ],
   "source": [
    "def set_up_mail(first_name, last_name, address, city, state, zip_code):\n",
    "    print(f\"\"\"\n",
    "{first_name.title()} {last_name.title()}\n",
    "{address.title()}\n",
    "{city.title()}, {state.upper()} {zip_code}\n",
    "    \"\"\")\n",
    "    \n",
    "first = input('What is your first name? ')\n",
    "last = input('What is your last name? ')\n",
    "address = input('What is your address? ')\n",
    "city = input('In which city do you live? ')\n",
    "state = input('What is the state postal code? ')\n",
    "zip_code = input('What is your zip code? ')\n",
    "\n",
    "set_up_mail(first, last, address, city, state, zip_code)\n"
   ]
  },
  {
   "cell_type": "markdown",
   "metadata": {},
   "source": [
    "##### Keyword Arguments"
   ]
  },
  {
   "cell_type": "code",
   "execution_count": 28,
   "metadata": {},
   "outputs": [
    {
     "name": "stdout",
     "output_type": "stream",
     "text": [
      "You have made a payment of $100 to Account #2348905.\n",
      "Your new balance due is $900\n",
      "Thank you for the payment\n"
     ]
    }
   ],
   "source": [
    "def make_a_payment(total_amount_due, amount_paid, account_number):\n",
    "    new_total = total_amount_due - amount_paid\n",
    "    print(f\"You have made a payment of ${amount_paid} to Account #{account_number}.\")\n",
    "    print(f\"Your new balance due is ${new_total}\")\n",
    "    print(\"Thank you for the payment\")\n",
    "    \n",
    "make_a_payment(1000, 100, '2348905')"
   ]
  },
  {
   "cell_type": "code",
   "execution_count": 29,
   "metadata": {},
   "outputs": [
    {
     "name": "stdout",
     "output_type": "stream",
     "text": [
      "You have made a payment of $500 to Account #48574857.\n",
      "Your new balance due is $1500\n",
      "Thank you for the payment\n"
     ]
    }
   ],
   "source": [
    "make_a_payment(account_number='48574857', total_amount_due=2000, amount_paid=500)"
   ]
  },
  {
   "cell_type": "code",
   "execution_count": 32,
   "metadata": {},
   "outputs": [
    {
     "name": "stdout",
     "output_type": "stream",
     "text": [
      "You have made a payment of $2999 to Account #3873984.\n",
      "Your new balance due is $1\n",
      "Thank you for the payment\n"
     ]
    }
   ],
   "source": [
    "make_a_payment(3000, account_number='3873984', amount_paid=2999)"
   ]
  },
  {
   "cell_type": "code",
   "execution_count": 34,
   "metadata": {},
   "outputs": [],
   "source": [
    "# Positional argument MUST come first\n",
    "# make_a_payment(account_number='83483468', amount_paid=150, 500) # Syntax Error!"
   ]
  },
  {
   "cell_type": "markdown",
   "metadata": {},
   "source": [
    "##### Default Parameters"
   ]
  },
  {
   "cell_type": "code",
   "execution_count": 48,
   "metadata": {
    "scrolled": true
   },
   "outputs": [
    {
     "name": "stdout",
     "output_type": "stream",
     "text": [
      "Thank you Brian. Here is your receipt:\n",
      "1 Hamburger\n",
      "\twith cheese\n",
      "\twith lettuce\n",
      "\twith tomato\n",
      "Total: $4.50\n"
     ]
    }
   ],
   "source": [
    "# default parameters need to be AFTER non-default at all times\n",
    "\n",
    "def make_a_burger(customer_name, cheese=True, lettuce=True, tomato=True, onions=''):\n",
    "    total_price = 4.50\n",
    "    message = f'Thank you {customer_name}. Here is your receipt:\\n'\n",
    "    message += '1 Hamburger\\n'\n",
    "    if cheese:\n",
    "        message += '\\twith cheese\\n'\n",
    "    if lettuce:\n",
    "        message += '\\twith lettuce\\n'\n",
    "    if tomato:\n",
    "        message += '\\twith tomato\\n'\n",
    "    if onions:\n",
    "        message += f'\\twith {onions} onions\\n'\n",
    "        total_price += .50\n",
    "    message += f'Total: ${total_price:.2f}'\n",
    "    print(message)\n",
    "    \n",
    "make_a_burger('Brian')"
   ]
  },
  {
   "cell_type": "code",
   "execution_count": 49,
   "metadata": {},
   "outputs": [
    {
     "name": "stdout",
     "output_type": "stream",
     "text": [
      "Thank you Claire. Here is your receipt:\n",
      "1 Hamburger\n",
      "\twith lettuce\n",
      "Total: $4.50\n"
     ]
    }
   ],
   "source": [
    "make_a_burger('Claire', False, True, False)"
   ]
  },
  {
   "cell_type": "code",
   "execution_count": 52,
   "metadata": {},
   "outputs": [
    {
     "name": "stdout",
     "output_type": "stream",
     "text": [
      "Thank you Dave. Here is your receipt:\n",
      "1 Hamburger\n",
      "\twith cheese\n",
      "\twith lettuce\n",
      "\twith tomato\n",
      "\twith grilled onions\n",
      "Total: $5.00\n"
     ]
    }
   ],
   "source": [
    "make_a_burger('Dave', True, True, True, 'grilled')"
   ]
  },
  {
   "cell_type": "code",
   "execution_count": 51,
   "metadata": {},
   "outputs": [
    {
     "name": "stdout",
     "output_type": "stream",
     "text": [
      "Thank you Dave. Here is your receipt:\n",
      "1 Hamburger\n",
      "\twith cheese\n",
      "\twith lettuce\n",
      "\twith tomato\n",
      "\twith grilled onions\n",
      "Total: $5.00\n"
     ]
    }
   ],
   "source": [
    "make_a_burger('Dave', onions='grilled')"
   ]
  },
  {
   "cell_type": "code",
   "execution_count": 53,
   "metadata": {},
   "outputs": [
    {
     "name": "stdout",
     "output_type": "stream",
     "text": [
      "Thank you Jennifer. Here is your receipt:\n",
      "1 Hamburger\n",
      "\twith cheese\n",
      "\twith lettuce\n",
      "\twith grilled onions\n",
      "Total: $5.00\n"
     ]
    }
   ],
   "source": [
    "make_a_burger('Jennifer', onions='grilled', tomato=False)"
   ]
  },
  {
   "cell_type": "code",
   "execution_count": 46,
   "metadata": {},
   "outputs": [
    {
     "name": "stdout",
     "output_type": "stream",
     "text": [
      "Hello\n",
      "\tHello\n"
     ]
    }
   ],
   "source": [
    "print('Hello')\n",
    "print('\\tHello')"
   ]
  },
  {
   "cell_type": "markdown",
   "metadata": {},
   "source": [
    "##### \\*args and **kwargs"
   ]
  },
  {
   "cell_type": "code",
   "execution_count": 54,
   "metadata": {},
   "outputs": [
    {
     "name": "stdout",
     "output_type": "stream",
     "text": [
      "Help on built-in function max in module builtins:\n",
      "\n",
      "max(...)\n",
      "    max(iterable, *[, default=obj, key=func]) -> value\n",
      "    max(arg1, arg2, *args, *[, key=func]) -> value\n",
      "    \n",
      "    With a single iterable argument, return its biggest item. The\n",
      "    default keyword-only argument specifies an object to return if\n",
      "    the provided iterable is empty.\n",
      "    With two or more arguments, return the largest argument.\n",
      "\n"
     ]
    }
   ],
   "source": [
    "help(max)"
   ]
  },
  {
   "cell_type": "code",
   "execution_count": 57,
   "metadata": {
    "scrolled": true
   },
   "outputs": [
    {
     "data": {
      "text/plain": [
       "7"
      ]
     },
     "execution_count": 57,
     "metadata": {},
     "output_type": "execute_result"
    }
   ],
   "source": [
    "max(1, 2, 3, 4, 5, 2, 4, 3, 6, 7, 2, 3, 6, 7, 2, 6, 7, 3, 5, 6, 4)"
   ]
  },
  {
   "cell_type": "code",
   "execution_count": 70,
   "metadata": {},
   "outputs": [
    {
     "name": "stdout",
     "output_type": "stream",
     "text": [
      "a\n",
      "b\n",
      "('c', 'd', 'e')\n",
      "<class 'tuple'>\n",
      "{'key': 'value', 'num': 10}\n",
      "<class 'dict'>\n"
     ]
    }
   ],
   "source": [
    "def my_function(arg1, arg2, *args, **kwargs):\n",
    "    print(arg1)\n",
    "    print(arg2)\n",
    "    print(args)\n",
    "    print(type(args))\n",
    "    print(kwargs)\n",
    "    print(type(kwargs))\n",
    "    \n",
    "    \n",
    "my_function('a', 'b', 'c', 'd', 'e', key='value', num=10)"
   ]
  },
  {
   "cell_type": "markdown",
   "metadata": {},
   "source": [
    "#### In Class Exercise 1"
   ]
  },
  {
   "cell_type": "markdown",
   "metadata": {},
   "source": [
    "Create a function that takes in a color, make, and model and formats it into a string.<br>\n",
    "Then loop over the cars list and apply the function to each element.<br>\n",
    "Expected Output:<br>\n",
    "<code>Blue Toyota Tundra\n",
    "Green Chevy Silverado\n",
    "Pink Ford F-150</code>\n"
   ]
  },
  {
   "cell_type": "code",
   "execution_count": 16,
   "metadata": {},
   "outputs": [
    {
     "name": "stdout",
     "output_type": "stream",
     "text": [
      "Blue Toyota Tundra\n",
      "Green Chevy Silverado\n",
      "Pink Ford F-150\n",
      "Red Ford Mustang\n",
      "Yellow Toyota Prius\n"
     ]
    }
   ],
   "source": [
    "cars = [\n",
    "    ('blue', 'toyota', 'tundra'), \n",
    "    ('green', 'chevy', 'silverado'), \n",
    "    ('pink', 'ford', 'f-150'), \n",
    "    ('red', 'ford', 'mustang'),\n",
    "    ('yellow', 'toyota', 'prius')\n",
    "]\n",
    "\n",
    "def format_car(color, make, model):\n",
    "    print(f\"{color.title()} {make.title()} {model.title()}\")\n",
    "    \n",
    "\n",
    "for car in cars:\n",
    "    format_car(car[0], car[1], car[2])"
   ]
  },
  {
   "cell_type": "code",
   "execution_count": 17,
   "metadata": {
    "scrolled": true
   },
   "outputs": [],
   "source": [
    "\n",
    "\n",
    "# for car in cars:\n",
    "#     print(*(val.title() for val in car))"
   ]
  },
  {
   "cell_type": "code",
   "execution_count": 18,
   "metadata": {
    "scrolled": true
   },
   "outputs": [
    {
     "name": "stdout",
     "output_type": "stream",
     "text": [
      "Blue Toyota Tundra\n",
      "Green Chevy Silverado\n",
      "Pink Ford F-150\n",
      "Red Ford Mustang\n",
      "Yellow Toyota Prius\n"
     ]
    }
   ],
   "source": [
    "for c, ma, mo in cars:\n",
    "    format_car(c, ma, mo)"
   ]
  },
  {
   "cell_type": "code",
   "execution_count": null,
   "metadata": {},
   "outputs": [],
   "source": []
  },
  {
   "cell_type": "code",
   "execution_count": null,
   "metadata": {},
   "outputs": [],
   "source": []
  },
  {
   "cell_type": "markdown",
   "metadata": {},
   "source": [
    "## Scope <br>\n",
    "<p>Scope refers to the ability to access variables, different types of scope include:<br>a) Global<br>b) Function (local)<br>c) Class (local)</p>"
   ]
  },
  {
   "cell_type": "code",
   "execution_count": 19,
   "metadata": {},
   "outputs": [
    {
     "name": "stdout",
     "output_type": "stream",
     "text": [
      "[('blue', 'toyota', 'tundra'), ('green', 'chevy', 'silverado'), ('pink', 'ford', 'f-150'), ('red', 'ford', 'mustang'), ('yellow', 'toyota', 'prius')]\n"
     ]
    }
   ],
   "source": [
    "print(cars)"
   ]
  },
  {
   "cell_type": "code",
   "execution_count": 33,
   "metadata": {},
   "outputs": [
    {
     "name": "stdout",
     "output_type": "stream",
     "text": [
      "Jimmy Smith\n",
      "Little Jimmy has been assigned to Ms Buttercup's class\n",
      "THIS ONE: Jimmy Smith\n"
     ]
    }
   ],
   "source": [
    "student = 'Little Jimmy'\n",
    "teacher = 'Ms Buttercup'\n",
    "\n",
    "def assign_student(student_name):\n",
    "    student = \"Jimmy Smith\"\n",
    "    print(student)\n",
    "    new_variable = 'Hello'\n",
    "    print(f\"{student_name} has been assigned to {teacher}'s class\")\n",
    "\n",
    "    print('THIS ONE:', student)\n",
    "assign_student(student)\n",
    "# print(student)\n",
    "# print(new_variable) # NameError: name 'new_variable' is not defined"
   ]
  },
  {
   "cell_type": "code",
   "execution_count": 35,
   "metadata": {},
   "outputs": [
    {
     "name": "stdout",
     "output_type": "stream",
     "text": [
      "Help on method_descriptor:\n",
      "\n",
      "append(self, object, /)\n",
      "    Append object to the end of the list.\n",
      "\n"
     ]
    }
   ],
   "source": [
    "help(list.append)"
   ]
  },
  {
   "cell_type": "code",
   "execution_count": 39,
   "metadata": {},
   "outputs": [
    {
     "name": "stdout",
     "output_type": "stream",
     "text": [
      "['hello']\n"
     ]
    }
   ],
   "source": [
    "my_list = []\n",
    "\n",
    "my_list.append('hello') # .append is a method that is class scoped\n",
    "print(my_list)"
   ]
  },
  {
   "cell_type": "markdown",
   "metadata": {},
   "source": [
    "##### Returning Values"
   ]
  },
  {
   "cell_type": "code",
   "execution_count": 40,
   "metadata": {},
   "outputs": [
    {
     "name": "stdout",
     "output_type": "stream",
     "text": [
      "10\n"
     ]
    }
   ],
   "source": [
    "# Mathematical Function - y = f(x)\n",
    "# Where f is the function, x is the input(s), and y is the dependent variable (or the return variable)\n",
    "\n",
    "def f(x):\n",
    "    return 2 * x\n",
    "\n",
    "y = f(5)\n",
    "print(y)"
   ]
  },
  {
   "cell_type": "code",
   "execution_count": 41,
   "metadata": {},
   "outputs": [
    {
     "name": "stdout",
     "output_type": "stream",
     "text": [
      "20 400\n"
     ]
    }
   ],
   "source": [
    "z = f(10)\n",
    "print(z, z**2)"
   ]
  },
  {
   "cell_type": "code",
   "execution_count": 45,
   "metadata": {
    "scrolled": true
   },
   "outputs": [
    {
     "name": "stdout",
     "output_type": "stream",
     "text": [
      "0\n"
     ]
    }
   ],
   "source": [
    "# Return will also immediately terminate the function\n",
    "def early_return(n):\n",
    "    for i in range(n):\n",
    "        return i\n",
    "    \n",
    "x = early_return(1000)\n",
    "print(x)"
   ]
  },
  {
   "cell_type": "code",
   "execution_count": 46,
   "metadata": {},
   "outputs": [
    {
     "name": "stdout",
     "output_type": "stream",
     "text": [
      "1000\n"
     ]
    }
   ],
   "source": [
    "def early_return_again(n):\n",
    "    for i in range(n):\n",
    "        return n\n",
    "    print('Still in the function!')\n",
    "    \n",
    "w = early_return_again(1000)\n",
    "print(w)"
   ]
  },
  {
   "cell_type": "markdown",
   "metadata": {},
   "source": [
    "#### Multiple returns in a function"
   ]
  },
  {
   "cell_type": "code",
   "execution_count": 48,
   "metadata": {},
   "outputs": [
    {
     "name": "stdout",
     "output_type": "stream",
     "text": [
      "True\n",
      "False\n"
     ]
    }
   ],
   "source": [
    "def can_vote(birth_year):\n",
    "    if 2022 - birth_year >= 18:\n",
    "        return True\n",
    "    else:\n",
    "        return False\n",
    "    \n",
    "print(can_vote(2000))\n",
    "print(can_vote(2010))"
   ]
  },
  {
   "cell_type": "code",
   "execution_count": 51,
   "metadata": {},
   "outputs": [
    {
     "name": "stdout",
     "output_type": "stream",
     "text": [
      "True\n"
     ]
    }
   ],
   "source": [
    "def can_vote(birth_year):\n",
    "    if 2022 - birth_year >= 18:\n",
    "        return True\n",
    "    return False\n",
    "    \n",
    "print(can_vote(2000))\n",
    "# print(can_vote(2010))"
   ]
  },
  {
   "cell_type": "code",
   "execution_count": 50,
   "metadata": {},
   "outputs": [
    {
     "name": "stdout",
     "output_type": "stream",
     "text": [
      "True\n",
      "False\n",
      "None\n"
     ]
    }
   ],
   "source": [
    "def can_vote(birth_year):\n",
    "    if 2022 - birth_year >= 18:\n",
    "        print(True)\n",
    "    print(False)\n",
    "    \n",
    "print(can_vote(2000))\n",
    "# print(can_vote(2010))"
   ]
  },
  {
   "cell_type": "code",
   "execution_count": 52,
   "metadata": {},
   "outputs": [
    {
     "name": "stdout",
     "output_type": "stream",
     "text": [
      "Help on NoneType object:\n",
      "\n",
      "class NoneType(object)\n",
      " |  Methods defined here:\n",
      " |  \n",
      " |  __bool__(self, /)\n",
      " |      self != 0\n",
      " |  \n",
      " |  __repr__(self, /)\n",
      " |      Return repr(self).\n",
      " |  \n",
      " |  ----------------------------------------------------------------------\n",
      " |  Static methods defined here:\n",
      " |  \n",
      " |  __new__(*args, **kwargs) from builtins.type\n",
      " |      Create and return a new object.  See help(type) for accurate signature.\n",
      "\n"
     ]
    }
   ],
   "source": [
    "help(None)"
   ]
  },
  {
   "cell_type": "code",
   "execution_count": 54,
   "metadata": {},
   "outputs": [
    {
     "data": {
      "text/plain": [
       "False"
      ]
     },
     "execution_count": 54,
     "metadata": {},
     "output_type": "execute_result"
    }
   ],
   "source": []
  },
  {
   "cell_type": "markdown",
   "metadata": {},
   "source": [
    "##### Difference between `return` and `print`"
   ]
  },
  {
   "cell_type": "code",
   "execution_count": 57,
   "metadata": {},
   "outputs": [
    {
     "name": "stdout",
     "output_type": "stream",
     "text": [
      "\n",
      "    World Cup Soccer Is Fun! by Brian Stanton\n",
      "    I sure am enjoying the world cup, what about you?\n",
      "    \n"
     ]
    }
   ],
   "source": [
    "def create_headline_print(message):\n",
    "    print(message.strip().title() + '!')\n",
    "    \n",
    "def create_headline_return(message):\n",
    "    return message.strip().title() + '!'\n",
    "\n",
    "def publish_article(headline, author, body):\n",
    "    clean_headline = create_headline_return(headline)\n",
    "    \n",
    "    print(f\"\"\"\n",
    "    {clean_headline} by {author}\n",
    "    {body}\n",
    "    \"\"\")\n",
    "    \n",
    "publish_article(\"    worLD cuP SOccER is FUn   \", \"Brian Stanton\", \"I sure am enjoying the world cup, what about you?\")"
   ]
  },
  {
   "cell_type": "code",
   "execution_count": null,
   "metadata": {},
   "outputs": [],
   "source": []
  },
  {
   "cell_type": "code",
   "execution_count": null,
   "metadata": {},
   "outputs": [],
   "source": []
  },
  {
   "cell_type": "markdown",
   "metadata": {},
   "source": [
    "#### Functions with Lists"
   ]
  },
  {
   "cell_type": "code",
   "execution_count": 58,
   "metadata": {},
   "outputs": [],
   "source": [
    "bands = ['  thE beATles   ', 'tHe RoLLing sTones..', '.,tHe eagles', 'the tEMptationS  ']\n",
    "bands2 = [' The whO  ', '  .   , tHE dOORS  ', ' the bAnd   ', '...,  THE kINks    ']"
   ]
  },
  {
   "cell_type": "code",
   "execution_count": 60,
   "metadata": {},
   "outputs": [
    {
     "data": {
      "text/plain": [
       "['The Beatles', 'The Rolling Stones', 'The Eagles', 'The Temptations']"
      ]
     },
     "execution_count": 60,
     "metadata": {},
     "output_type": "execute_result"
    }
   ],
   "source": [
    "clean_band = [band.strip('., ').title() for band in bands]\n",
    "clean_band"
   ]
  },
  {
   "cell_type": "code",
   "execution_count": 64,
   "metadata": {},
   "outputs": [
    {
     "data": {
      "text/plain": [
       "['The Who', 'The Doors', 'The Band', 'The Kinks']"
      ]
     },
     "execution_count": 64,
     "metadata": {},
     "output_type": "execute_result"
    }
   ],
   "source": [
    "def clean_band_names(messy_bands):\n",
    "    return [band.strip('., ').title() for band in messy_bands]\n",
    "\n",
    "clean_band_names(bands2)"
   ]
  },
  {
   "cell_type": "code",
   "execution_count": 65,
   "metadata": {},
   "outputs": [
    {
     "name": "stdout",
     "output_type": "stream",
     "text": [
      "['even', 'odd', 'odd', 'odd', 'even', 'even', 'odd', 'odd', 'even', 'even', 'even', 'odd', 'odd']\n"
     ]
    }
   ],
   "source": [
    "def even_odd(a_list):\n",
    "    output = []\n",
    "    for num in a_list:\n",
    "        if num % 2 == 0:\n",
    "            output.append('even')\n",
    "        else:\n",
    "            output.append('odd')\n",
    "    return output\n",
    "\n",
    "\n",
    "nums = [2, 5, 7, 3, 2, 6, 1, 3, 4, 4, 6, 7, 3]\n",
    "result = even_odd(nums)\n",
    "print(result)"
   ]
  },
  {
   "cell_type": "markdown",
   "metadata": {},
   "source": [
    "#### In-Class Exercise 2"
   ]
  },
  {
   "cell_type": "markdown",
   "metadata": {},
   "source": [
    "Create a function that takes in the list of tuples ('city', 'country') and a country name and returns a list of the cities in that country"
   ]
  },
  {
   "cell_type": "code",
   "execution_count": 69,
   "metadata": {},
   "outputs": [
    {
     "name": "stdout",
     "output_type": "stream",
     "text": [
      "[('London', 'England'), ('Manchester', 'England'), ('Barcelona', 'Spain'), ('Madrid', 'Spain'), ('Rome', 'Italy'), ('Florence', 'Italy')]\n",
      "[('London', 'England'), ('Manchester', 'England'), ('Barcelona', 'Spain'), ('Madrid', 'Spain'), ('Rome', 'Italy'), ('Florence', 'Italy')]\n"
     ]
    }
   ],
   "source": [
    "cities = [\n",
    "    (\"London\", \"England\"), \n",
    "    (\"Manchester\", \"England\"), \n",
    "    (\"Barcelona\", \"Spain\"), \n",
    "    (\"Madrid\", \"Spain\"), \n",
    "    (\"Rome\", \"Italy\"), \n",
    "    (\"Florence\", \"Italy\")\n",
    "]\n",
    "\n",
    "\n",
    "def cities_in_country(list_of_tuples, country_name):\n",
    "    # your code here\n",
    "    print(cities)\n",
    "    pass\n",
    "\n",
    "cities_in_country(cities, 'Italy') # ['Rome', 'Florence']\n",
    "cities_in_country(cities, 'England') # ['London', 'Manchester']"
   ]
  },
  {
   "cell_type": "code",
   "execution_count": null,
   "metadata": {},
   "outputs": [],
   "source": []
  },
  {
   "cell_type": "markdown",
   "metadata": {},
   "source": [
    "#### Docstrings"
   ]
  },
  {
   "cell_type": "code",
   "execution_count": 86,
   "metadata": {},
   "outputs": [
    {
     "name": "stdout",
     "output_type": "stream",
     "text": [
      "Help on built-in function len in module builtins:\n",
      "\n",
      "len(obj, /)\n",
      "    Return the number of items in a container.\n",
      "\n"
     ]
    }
   ],
   "source": [
    "help(len)"
   ]
  },
  {
   "cell_type": "code",
   "execution_count": 88,
   "metadata": {},
   "outputs": [
    {
     "name": "stdout",
     "output_type": "stream",
     "text": [
      "Help on function add_nums in module __main__:\n",
      "\n",
      "add_nums(num1, num2)\n",
      "    add_nums takes in two number types (int or float) and will return the two added together\n",
      "    num1 -> int or float\n",
      "    num2 -> int or float\n",
      "    returns int or float\n",
      "\n"
     ]
    }
   ],
   "source": [
    "def add_nums(num1, num2):\n",
    "    \"\"\"\n",
    "    add_nums takes in two number types (int or float) and will return the two added together\n",
    "    num1 -> int or float\n",
    "    num2 -> int or float\n",
    "    returns int or float\n",
    "    \"\"\"\n",
    "    return num1 + num2\n",
    "\n",
    "help(add_nums)"
   ]
  },
  {
   "cell_type": "code",
   "execution_count": null,
   "metadata": {},
   "outputs": [],
   "source": []
  },
  {
   "cell_type": "markdown",
   "metadata": {},
   "source": [
    "#### Whiteboard Approach"
   ]
  },
  {
   "cell_type": "markdown",
   "metadata": {},
   "source": [
    "1. What are the input(s)?\n",
    "2. What are the output(s)?\n",
    "3. Consider constraints and edge cases\n",
    "4. Write out steps logically (No python)\n",
    "5. Pseudocode\n",
    "6. Code"
   ]
  },
  {
   "cell_type": "markdown",
   "metadata": {},
   "source": [
    "#### Whiteboard Example"
   ]
  },
  {
   "cell_type": "markdown",
   "metadata": {},
   "source": [
    "Find Even numbers<br>\n",
    "Create a function that, given a list as a parameter, finds the even numbers <br>\n",
    "inside the list. The function should then return a list.<br>\n",
    "Bonus: Use a list comprehension to find your solution<br>\n",
    "Example:<br>\n",
    "Input: [2, 7, 10, 11, 12]<br>\n",
    "Output: [2, 10, 12]<br>"
   ]
  },
  {
   "cell_type": "code",
   "execution_count": 92,
   "metadata": {},
   "outputs": [
    {
     "data": {
      "text/plain": [
       "[2, 10, 12]"
      ]
     },
     "execution_count": 92,
     "metadata": {},
     "output_type": "execute_result"
    }
   ],
   "source": [
    "# 1. Input(s): List[int]\n",
    "# 2. Output(s): List[int] -> all int should be even\n",
    "# 3. If input list is empty or has no evens, return an empty list. Can assume all ints in input list\n",
    "# are between 0 and 100\n",
    "\n",
    "# 4. Go through the list, check each item and see if it is even, \n",
    "# if so, add that item to the list of even numbers, if not, move to next number\n",
    "# once finished, checking all the numbers, return the list of even numbers\n",
    "\n",
    "\n",
    "#5. + 6.\n",
    "# define a function that accepts one parameter\n",
    "def get_evens(list_of_nums):\n",
    "    # define an empty list for our even numbers\n",
    "    even_nums = []\n",
    "    # loop through the list we were given\n",
    "    for num in list_of_nums:\n",
    "        # if the element is even aka has a remainder of 0 when divided by 2\n",
    "        if num % 2 == 0:\n",
    "            # add item to list of even numbers\n",
    "            even_nums.append(num)\n",
    "        # if the element is not even, do nothing\n",
    "    # Once finished looping, return the list of evens\n",
    "    return even_nums\n",
    "\n",
    "get_evens([2, 7, 10, 11, 12])"
   ]
  },
  {
   "cell_type": "code",
   "execution_count": 93,
   "metadata": {},
   "outputs": [
    {
     "data": {
      "text/plain": [
       "[2, 10, 12]"
      ]
     },
     "execution_count": 93,
     "metadata": {},
     "output_type": "execute_result"
    }
   ],
   "source": [
    "def get_evens_comp(list_of_nums):\n",
    "    even_nums = [num for num in list_of_nums if num % 2 == 0]\n",
    "    return even_nums\n",
    "\n",
    "get_evens_comp([2, 7, 10, 11, 12])"
   ]
  }
 ],
 "metadata": {
  "kernelspec": {
   "display_name": "Python 3",
   "language": "python",
   "name": "python3"
  },
  "language_info": {
   "codemirror_mode": {
    "name": "ipython",
    "version": 3
   },
   "file_extension": ".py",
   "mimetype": "text/x-python",
   "name": "python",
   "nbconvert_exporter": "python",
   "pygments_lexer": "ipython3",
   "version": "3.8.5"
  }
 },
 "nbformat": 4,
 "nbformat_minor": 2
}
